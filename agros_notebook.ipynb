{
 "cells": [
  {
   "cell_type": "code",
   "execution_count": 1,
   "id": "35385a45-8245-40a8-8262-16b0f680f715",
   "metadata": {},
   "outputs": [],
   "source": [
    "from Agros import *"
   ]
  },
  {
   "cell_type": "code",
   "execution_count": 7,
   "id": "b1172939-6213-4b6c-8894-2928f700cad4",
   "metadata": {},
   "outputs": [],
   "source": [
    "# Gapminder"
   ]
  },
  {
   "cell_type": "markdown",
   "id": "fd837b85-468b-4dbc-8eb2-c8dd964a0349",
   "metadata": {},
   "source": []
  },
  {
   "cell_type": "code",
   "execution_count": 8,
   "id": "a2b582f8-e7e5-4779-ba65-f68bbd51f737",
   "metadata": {},
   "outputs": [],
   "source": [
    "# Method 4"
   ]
  },
  {
   "cell_type": "markdown",
   "id": "f1ee0991-d18e-494a-9e8b-1e57ab0aa00f",
   "metadata": {},
   "source": []
  },
  {
   "cell_type": "code",
   "execution_count": 9,
   "id": "f96bf14e-1877-4ff5-8234-2a8a9f2e1dc0",
   "metadata": {},
   "outputs": [],
   "source": [
    "# Method 5"
   ]
  },
  {
   "cell_type": "markdown",
   "id": "345fe423-a9e7-4d74-b137-70dadb1e9e99",
   "metadata": {},
   "source": []
  },
  {
   "cell_type": "code",
   "execution_count": 10,
   "id": "451b7dde-3d6a-47b6-b8b3-dcad8d1c9806",
   "metadata": {},
   "outputs": [],
   "source": [
    "# Method 3"
   ]
  },
  {
   "cell_type": "markdown",
   "id": "25824299-0066-451b-813a-ee795f220ad0",
   "metadata": {},
   "source": []
  },
  {
   "cell_type": "code",
   "execution_count": 11,
   "id": "3fca71f6-2d31-4a3c-a70a-758f8da15c45",
   "metadata": {},
   "outputs": [],
   "source": [
    "# Final Analysis"
   ]
  },
  {
   "cell_type": "markdown",
   "id": "361f4194-3609-4528-b6ca-1041301a1892",
   "metadata": {},
   "source": []
  }
 ],
 "metadata": {
  "kernelspec": {
   "display_name": "Python 3 (ipykernel)",
   "language": "python",
   "name": "python3"
  },
  "language_info": {
   "codemirror_mode": {
    "name": "ipython",
    "version": 3
   },
   "file_extension": ".py",
   "mimetype": "text/x-python",
   "name": "python",
   "nbconvert_exporter": "python",
   "pygments_lexer": "ipython3",
   "version": "3.9.12"
  }
 },
 "nbformat": 4,
 "nbformat_minor": 5
}
