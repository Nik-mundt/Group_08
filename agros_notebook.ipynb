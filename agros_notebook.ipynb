{
 "cells": [
  {
   "cell_type": "markdown",
   "id": "f4e9bf41-0bab-4bc7-ae8a-ceca0ed827fb",
   "metadata": {},
   "source": [
    "## Day 1 Showcase Notebook\n",
    "\n",
    "**Alessandro Maugeri** (53067);\n",
    "**Hanna Baeuchle** (53279);\n",
    "**Johannes Rahn** (53958);\n",
    "**Nik Mundt** (53766)"
   ]
  },
  {
   "cell_type": "markdown",
   "id": "62b5ac78-3d2d-4a99-bf88-22fc56ed0f55",
   "metadata": {},
   "source": [
    "We begin by importing the class from the python file we have developed. We then create an instance of said class under the name *agros*."
   ]
  },
  {
   "cell_type": "code",
   "execution_count": 1,
   "id": "35385a45-8245-40a8-8262-16b0f680f715",
   "metadata": {},
   "outputs": [],
   "source": [
    "# Import\n",
    "from Agros import *"
   ]
  },
  {
   "cell_type": "code",
   "execution_count": 6,
   "id": "8125516d-1056-4f89-8c2e-8d38c78677e3",
   "metadata": {},
   "outputs": [
    {
     "name": "stdout",
     "output_type": "stream",
     "text": [
      "agriculture_dataset.csv already exists in /Users/alessandromaugeri/Desktop/GitHub/Group_08/downloads\n"
     ]
    }
   ],
   "source": [
    "# Create instance\n",
    "agros = AgrosClass()"
   ]
  },
  {
   "cell_type": "code",
   "execution_count": 4,
   "id": "db5e44c0-d042-40cc-b0cc-2de3fd1fc24c",
   "metadata": {},
   "outputs": [],
   "source": [
    "# Gapminder"
   ]
  },
  {
   "cell_type": "markdown",
   "id": "fd837b85-468b-4dbc-8eb2-c8dd964a0349",
   "metadata": {},
   "source": []
  },
  {
   "cell_type": "markdown",
   "id": "9755ed65-856a-42cb-bcad-29cc9d63d9e0",
   "metadata": {},
   "source": [
    "**Method 4 Task**: We utilize the method *.area_chart()* to analyze the output composition of the three selected countries: Germany, South Africa, and Thailand. We assess this both in absolute and relative terms. For the latter, we also make a comparison to worldwide output composition."
   ]
  },
  {
   "cell_type": "code",
   "execution_count": 5,
   "id": "a2b582f8-e7e5-4779-ba65-f68bbd51f737",
   "metadata": {},
   "outputs": [],
   "source": [
    "# Method 4"
   ]
  },
  {
   "cell_type": "markdown",
   "id": "f1ee0991-d18e-494a-9e8b-1e57ab0aa00f",
   "metadata": {},
   "source": []
  },
  {
   "cell_type": "code",
   "execution_count": 9,
   "id": "f96bf14e-1877-4ff5-8234-2a8a9f2e1dc0",
   "metadata": {},
   "outputs": [],
   "source": [
    "# Method 5"
   ]
  },
  {
   "cell_type": "markdown",
   "id": "345fe423-a9e7-4d74-b137-70dadb1e9e99",
   "metadata": {},
   "source": []
  },
  {
   "cell_type": "code",
   "execution_count": 10,
   "id": "451b7dde-3d6a-47b6-b8b3-dcad8d1c9806",
   "metadata": {},
   "outputs": [],
   "source": [
    "# Method 3"
   ]
  },
  {
   "cell_type": "markdown",
   "id": "25824299-0066-451b-813a-ee795f220ad0",
   "metadata": {},
   "source": []
  },
  {
   "cell_type": "code",
   "execution_count": 11,
   "id": "3fca71f6-2d31-4a3c-a70a-758f8da15c45",
   "metadata": {},
   "outputs": [],
   "source": [
    "# Final Analysis"
   ]
  },
  {
   "cell_type": "markdown",
   "id": "361f4194-3609-4528-b6ca-1041301a1892",
   "metadata": {},
   "source": []
  }
 ],
 "metadata": {
  "kernelspec": {
   "display_name": "Python 3 (ipykernel)",
   "language": "python",
   "name": "python3"
  },
  "language_info": {
   "codemirror_mode": {
    "name": "ipython",
    "version": 3
   },
   "file_extension": ".py",
   "mimetype": "text/x-python",
   "name": "python",
   "nbconvert_exporter": "python",
   "pygments_lexer": "ipython3",
   "version": "3.9.12"
  }
 },
 "nbformat": 4,
 "nbformat_minor": 5
}
